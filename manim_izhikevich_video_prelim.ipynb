{
 "cells": [
  {
   "cell_type": "markdown",
   "metadata": {},
   "source": [
    "# Short video on the Izhikevich model\n",
    "\n",
    "This video is not a complete explanation of the Izhikevich model, but only a 15s video meant as proof of feasibility for the development of a series of 20 videos."
   ]
  },
  {
   "cell_type": "code",
   "execution_count": 1,
   "metadata": {},
   "outputs": [],
   "source": [
    "#!pip install manim"
   ]
  },
  {
   "cell_type": "markdown",
   "metadata": {},
   "source": [
    "## Testing we can get the right traces from the Izhikevich model implemented in our `scmc` package"
   ]
  },
  {
   "cell_type": "code",
   "execution_count": 2,
   "metadata": {},
   "outputs": [],
   "source": [
    "from scmc.cmc import get_izhikevich_pop, CMC\n",
    "import brian2 as br\n",
    "import matplotlib.pyplot as plt\n",
    "from manim import * #Axes, Scene, GREEN, BLUE, RED, UP, WHITE, UR, TAU\n",
    "import numpy as np\n",
    "from scipy.interpolate import interp1d"
   ]
  },
  {
   "cell_type": "code",
   "execution_count": 3,
   "metadata": {},
   "outputs": [
    {
     "data": {
      "text/plain": [
       "{'a': 20. * hertz,\n",
       " 'b': 200. * hertz,\n",
       " 'c': -65. * mvolt,\n",
       " 'd': 8. * metre ** 2 * kilogram * second ** -4 * amp ** -1,\n",
       " 'I': 0,\n",
       " 'nb_neurons': 1}"
      ]
     },
     "execution_count": 3,
     "metadata": {},
     "output_type": "execute_result"
    }
   ],
   "source": [
    "default_params = CMC.get_default_pop_params(nb_neurons=1, I=0)\n",
    "default_params"
   ]
  },
  {
   "cell_type": "code",
   "execution_count": 4,
   "metadata": {},
   "outputs": [
    {
     "name": "stdout",
     "output_type": "stream",
     "text": [
      "Starting simulation at t=0. s for a duration of 0.5 s\n",
      "0.5 s (100%) simulated in < 1s\n",
      "Starting simulation at t=0.5 s for a duration of 0.5 s\n",
      "0.5 s (100%) simulated in < 1s\n"
     ]
    }
   ],
   "source": [
    "default_params = CMC.get_default_pop_params(nb_neurons=1, I=0)\n",
    "\n",
    "neuron = get_izhikevich_pop(**default_params)\n",
    "monitor = br.StateMonitor(neuron, ['v', 'I'], record=True)\n",
    "network = br.Network()\n",
    "network.add(neuron)\n",
    "network.add(monitor)\n",
    "\n",
    "network.run(0.5*br.second, report=\"text\")\n",
    "neuron.I = 15*br.mV/br.ms\n",
    "network.run(0.5*br.second, report=\"text\")\n"
   ]
  },
  {
   "cell_type": "code",
   "execution_count": 5,
   "metadata": {},
   "outputs": [
    {
     "data": {
      "image/png": "[encoded data removed]",
      "text/plain": [
       "<Figure size 432x288 with 2 Axes>"
      ]
     },
     "metadata": {
      "needs_background": "light"
     },
     "output_type": "display_data"
    }
   ],
   "source": [
    "fig, axes = plt.subplots(2, 1)\n",
    "for ax, var in zip(axes, ['v', 'I']):\n",
    "    t, v = monitor.t/br.second-0.4, getattr(monitor, var)[0]/br.mV\n",
    "    ax.plot(t, v)\n",
    "    x = np.arange(t[0], t[-1], 0.001)\n",
    "    ax.plot(x, interp1d(t, v, kind=\"nearest-up\")(x) )\n",
    "    ax.set_xlim(0, 0.6)\n",
    "\n",
    "\n",
    "t, v, I = monitor.t/br.second-0.4, monitor.v[0]/br.mV, monitor.I[0]/br.mV\n",
    "\n",
    "v = v[t>=0]\n",
    "I = I[t>=0]\n",
    "t = t[t>=0]\n"
   ]
  },
  {
   "cell_type": "markdown",
   "metadata": {},
   "source": [
    "## Creating a video showing these traces as animations, along with the equations of the model"
   ]
  },
  {
   "cell_type": "code",
   "execution_count": 11,
   "metadata": {},
   "outputs": [],
   "source": [
    "from manim import * #Axes, Scene, GREEN, BLUE, RED, UP, WHITE, UR, TAU\n",
    "import numpy as np\n",
    "from scipy.interpolate import interp1d\n",
    "\n",
    "#config.background_color = RED\n",
    "#config.frame_rate = 50\n",
    "#config.frame_size = [1200,500] # [WIDTH, HEIGHT]\n",
    "# config.transparent = True\n",
    "\n",
    "# RENDER AS IMAGE: ----------------\n",
    "#config.format = \"png\"\n",
    "#config.save_last_frame = True\n",
    "# config.transparent = True\n",
    "\n",
    "# REDER AS GIF: -------------------\n",
    "#config.format = \"gif\"\n",
    "\n",
    "\n",
    "class IzhikevichFunctionPlot(Scene):\n",
    "\n",
    "    def get_trace(self):\n",
    "        \"\"\" Getting the trace of a Izhikevich neuron \"\"\"\n",
    "        default_params = CMC.get_default_pop_params(nb_neurons=1, I=0)\n",
    "\n",
    "        neuron = get_izhikevich_pop(**default_params)\n",
    "        monitor = br.StateMonitor(neuron, ['v', 'I'], record=True) \n",
    "        network = br.Network()\n",
    "        network.add(neuron)\n",
    "        network.add(monitor)\n",
    "\n",
    "        network.run(0.5*br.second, report=\"text\")\n",
    "        neuron.I = 15*br.mV/br.ms\n",
    "        network.run(0.5*br.second, report=\"text\")\n",
    "\n",
    "        self.t = monitor.t/br.second-0.4\n",
    "        self.v = monitor.v[0]/br.mV\n",
    "        self.I = monitor.I[0]/br.mV\n",
    "        self.v = self.v[self.t>=0]\n",
    "        self.I = self.I[self.t>=0]/1000\n",
    "        self.t = self.t[self.t>=0]       \n",
    "\n",
    "        self.func_v = interp1d(t, self.v, kind=\"nearest-up\")\n",
    "        self.func_I = interp1d(t, self.I, kind=\"nearest-up\")\n",
    "\n",
    "\n",
    "    def construct(self):\n",
    "        self.get_trace()\n",
    "        self.add_title()\n",
    "        self.add_latex_eq()\n",
    "        self.add_axes()\n",
    "        self.display_animated_curves()\n",
    "        self.wait()\n",
    "\n",
    "\n",
    "    def add_title(self):\n",
    "        text = Text(\"The Izhikevich\\nmodel\", font_size=60)\n",
    "        self.add(text)\n",
    "        text.shift(2.8*UP)\n",
    "        text.shift(4.2*LEFT)\n",
    "\n",
    "    def add_axes(self):\n",
    "\n",
    "        self.axes_stim = Axes(\n",
    "            x_range=[self.t[0], self.t[-1], 0.1],\n",
    "            y_range=[0, 16, 15],\n",
    "            x_length=10,\n",
    "            y_length=0.5,\n",
    "            x_axis_config={\n",
    "                \"numbers_to_include\": np.arange(self.t.min(), self.t.max(), 0.1),\n",
    "                \"numbers_with_elongated_ticks\": np.arange(self.t.min(), self.t.max(), 0.1),\n",
    "            },\n",
    "            tips=False,\n",
    "        )\n",
    "        self.axes_stim.add_coordinates()\n",
    "        axes_stim_labels = self.axes_stim.get_axis_labels(Tex(\"$t$\").scale(0.7), \n",
    "                                                          Tex(\"Stimulus (mV/ms)\").scale(0.7))\n",
    "\n",
    "\n",
    "        self.axes_iz = Axes(\n",
    "            x_range=[self.t[0], self.t[-1], 0.1],\n",
    "            y_range=[self.v.min(), self.v.max(), 20],\n",
    "            x_length=10,\n",
    "            y_length=2,\n",
    "            #axis_config={\"color\": GREEN},\n",
    "            x_axis_config={\n",
    "                \"numbers_to_include\": np.arange(self.t.min(), self.t.max(), 0.1),\n",
    "                \"numbers_with_elongated_ticks\": np.arange(self.t.min(), self.t.max(), 0.1),\n",
    "            },\n",
    "            tips=False,\n",
    "        )\n",
    "        self.axes_iz.add_coordinates()\n",
    "        axes_labels = self.axes_iz.get_axis_labels(Tex(\"$t$\").scale(0.7), \n",
    "                                                   Tex(\"Membrane potential (mV)\").scale(0.7))\n",
    "        #iz_graph = axes.plot(func, x_range=[t[0], t[-1], 0.0001], \n",
    "        #                     color=RED, use_smoothing=False)\n",
    "\n",
    "        self.axes_stim.shift(2*DOWN)\n",
    "        axes_stim_labels.shift(2*DOWN)  \n",
    "\n",
    "        plot = VGroup(self.axes_iz)#, iz_graph)#, vert_line)\n",
    "        labels = VGroup(axes_labels)#, sin_label, line_label)\n",
    "        self.add(plot, labels)\n",
    "        plot = VGroup(self.axes_stim)#, stim_graph,)#, vert_line)\n",
    "        labels = VGroup(axes_stim_labels)#, sin_label, line_label)\n",
    "        self.add(plot, labels)\n",
    "\n",
    "\n",
    "    def display_animated_curves(self):\n",
    "        self.t_offset = 0.0\n",
    "        rate = 0.1\n",
    "\n",
    "        def go_around_circle(mob, dt):\n",
    "            self.t_offset += (dt * rate)\n",
    "\n",
    "        ##### Izhikevich curve\n",
    "        self.curve = VGroup()\n",
    "        self.curve.add(Line(self.axes_iz.coords_to_point(self.t[0], self.v[0]).squeeze(),\n",
    "                            self.axes_iz.coords_to_point(self.t[0], self.v[0]).squeeze()))\n",
    "\n",
    "        self.last_t_ = float(t[0])\n",
    "        def get_curve():\n",
    "            last_line = self.curve[-1]\n",
    "            new_t = self.t[0] + self.t_offset\n",
    "            if new_t  == 0:\n",
    "                return self.curve\n",
    "\n",
    "            y = self.func_v(new_t)\n",
    "\n",
    "            inter_t = self.t[(self.t >= self.last_t_) & (self.t <= new_t)]\n",
    "            inter_v = self.v[(self.t >= self.last_t_) & (self.t <= new_t)]\n",
    "            \n",
    "            coords = self.axes_iz.coords_to_point(np.array([inter_t, inter_v]).T)\n",
    "            if len(coords.shape) == 1:\n",
    "                coords = np.array([coords])\n",
    "\n",
    "            self.curve.add(Line(last_line.get_end(), coords[0], color=YELLOW_D))\n",
    "            for c1, c2 in zip(coords[:-1], coords[1:]):\n",
    "                self.curve.add(Line(c1, c2, color=YELLOW_D))\n",
    "            self.curve.add(Line(coords[-1], self.axes_iz.coords_to_point([new_t], [y]).squeeze(), color=YELLOW_D))\n",
    "\n",
    "            self.last_t_ = new_t\n",
    "            return self.curve\n",
    "\n",
    "        curve_line = always_redraw(get_curve)\n",
    "\n",
    "        ##### Stimulus curve\n",
    "        self.curve_stim = VGroup()\n",
    "        self.curve_stim.add(Line(self.axes_stim.coords_to_point(self.t[0], self.I[0]).squeeze(),\n",
    "                                 self.axes_stim.coords_to_point(self.t[0], self.I[0]).squeeze()))\n",
    "\n",
    "        def get_curve_stim():\n",
    "            last_line = self.curve_stim[-1]\n",
    "            x = self.t[0] + self.t_offset\n",
    " \n",
    "            y = self.func_I(x)\n",
    "            new_line = Line(last_line.get_end(), self.axes_stim.coords_to_point([x], [y]).squeeze(), color=YELLOW_D)\n",
    "            self.curve_stim.add(new_line)\n",
    "            return self.curve_stim\n",
    "\n",
    "        curve_stim_line = always_redraw(get_curve_stim)\n",
    "\n",
    "        self.curve.add_updater(go_around_circle)\n",
    "\n",
    "        self.add(curve_line)\n",
    "        self.add(curve_stim_line)\n",
    "\n",
    "        self.wait(6)\n",
    "        self.curve.remove_updater(go_around_circle)\n",
    "\n",
    "    def add_latex_eq(self):\n",
    "        #text = MathTex(r\"\"\"\\dot v  & =            0.04v^2 + 5v + 140 - u - I \\\\ \n",
    "        #                   \\dot u  & =            a \\cdot (b\\cdot v - u)     \\\\ \n",
    "        #                   v       & \\leftarrow  c; \\ \\ u \\leftarrow u+d \\ \\ \\ \\ \\ \\  (when \\ v \\geq 30 mV)\"\"\")\n",
    "        text = MathTex(r\"\\dot v  & =            0.04v^2 + 5v + 140 - u - I \\\\\",  \n",
    "                       r\"\\dot u  & =            a \\cdot (b\\cdot v - u)     \\\\\", \n",
    "                       r\"v       & \\leftarrow  c; \\ \\ u \\leftarrow u+d \\ \\ \\ \\ \\ \\  (when \\ v \\geq 30 mV)\")  \n",
    "        text.scale(0.7)\n",
    "\n",
    "        text.shift(2.8*UP)\n",
    "        text.shift(3.0*RIGHT)\n",
    "        self.play(Write(text))\n",
    "        framebox1 = SurroundingRectangle(text[0], buff = .1)\n",
    "        framebox2 = SurroundingRectangle(text[1], buff = .1)\n",
    "        framebox3 = SurroundingRectangle(text[2], buff = .1)\n",
    "        self.play(\n",
    "            Create(framebox1),\n",
    "        )\n",
    "        self.wait()\n",
    "        self.play(\n",
    "            ReplacementTransform(framebox1,framebox2),\n",
    "        )\n",
    "        self.wait()\n",
    "        self.play(\n",
    "            ReplacementTransform(framebox2,framebox3),\n",
    "        )\n",
    "        self.wait()"
   ]
  },
  {
   "cell_type": "markdown",
   "metadata": {},
   "source": [
    "## Compiling and showing the video"
   ]
  },
  {
   "cell_type": "code",
   "execution_count": 12,
   "metadata": {},
   "outputs": [
    {
     "data": {
      "text/html": [
       "<pre style=\"white-space:pre;overflow-x:auto;line-height:normal;font-family:Menlo,'DejaVu Sans Mono',consolas,'Courier New',monospace\">Manim Community <span style=\"color: #008000; text-decoration-color: #008000\">v0.18.1</span>\n",
       "\n",
       "</pre>\n"
      ],
      "text/plain": [
       "Manim Community \u001b[32mv0.\u001b[0m\u001b[32m18.1\u001b[0m\n",
       "\n"
      ]
     },
     "metadata": {},
     "output_type": "display_data"
    },
    {
     "name": "stdout",
     "output_type": "stream",
     "text": [
      "Starting simulation at t=0. s for a duration of 0.5 s\n",
      "0.5 s (100%) simulated in < 1s\n",
      "Starting simulation at t=0.5 s for a duration of 0.5 s\n",
      "0.5 s (100%) simulated in < 1s\n"
     ]
    },
    {
     "name": "stderr",
     "output_type": "stream",
     "text": [
      "                                                                                                                                                                                                                                                                                    \r"
     ]
    },
    {
     "data": {
      "text/html": [
       "<video src=\"media/jupyter/IzhikevichFunctionPlot_2@2024-06-24@10-41-23.mp4\" controls autoplay loop style=\"max-width: 60%;\"  >\n",
       "      Your browser does not support the <code>video</code> element.\n",
       "    </video>"
      ],
      "text/plain": [
       "<IPython.core.display.Video object>"
      ]
     },
     "metadata": {},
     "output_type": "display_data"
    }
   ],
   "source": [
    "%manim -qm -v WARNING IzhikevichFunctionPlot"
   ]
  }
 ],
 "metadata": {
  "kernelspec": {
   "display_name": "base",
   "language": "python",
   "name": "python3"
  },
  "language_info": {
   "codemirror_mode": {
    "name": "ipython",
    "version": 3
   },
   "file_extension": ".py",
   "mimetype": "text/x-python",
   "name": "python",
   "nbconvert_exporter": "python",
   "pygments_lexer": "ipython3",
   "version": "3.9.7"
  }
 },
 "nbformat": 4,
 "nbformat_minor": 2
}
